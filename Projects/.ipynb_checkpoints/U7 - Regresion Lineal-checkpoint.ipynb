{
 "cells": [
  {
   "cell_type": "markdown",
   "id": "33dab8a5",
   "metadata": {},
   "source": [
    "## Modelos de regresion lineal "
   ]
  },
  {
   "cell_type": "markdown",
   "id": "3f366df1",
   "metadata": {},
   "source": [
    "* y = a + b * x\n",
    "* x: 100 valores distribuidos N(1.5, 2.5)\n",
    "* ye = 5 + 1.9 * x + e\n",
    "* e: estara distribuida segun una N(0, 0.8)"
   ]
  },
  {
   "cell_type": "code",
   "execution_count": 1,
   "id": "cebb4141",
   "metadata": {},
   "outputs": [],
   "source": [
    "import pandas as pd\n",
    "import numpy as np\n",
    "import matplotlib.pyplot as plt"
   ]
  },
  {
   "cell_type": "code",
   "execution_count": 2,
   "id": "0fd29ef4",
   "metadata": {},
   "outputs": [],
   "source": [
    "x = 1.5 + 2.5 *np.random.randn(100)"
   ]
  },
  {
   "cell_type": "code",
   "execution_count": 3,
   "id": "74b02b9e",
   "metadata": {},
   "outputs": [],
   "source": [
    "e = 0 + 0.8 *np.random.randn(100)"
   ]
  },
  {
   "cell_type": "code",
   "execution_count": 4,
   "id": "2d9ebbfa",
   "metadata": {},
   "outputs": [],
   "source": [
    "y_pred = 5 + 1.9* x"
   ]
  },
  {
   "cell_type": "code",
   "execution_count": 5,
   "id": "ac4495fa",
   "metadata": {},
   "outputs": [],
   "source": [
    "y_actual = 5 + 1.9* x + e"
   ]
  },
  {
   "cell_type": "code",
   "execution_count": 6,
   "id": "2253fb2a",
   "metadata": {},
   "outputs": [],
   "source": [
    "x_list = x.tolist()\n",
    "y_pred_list = y_pred.tolist()\n",
    "y_actual_list = y_actual.tolist()"
   ]
  },
  {
   "cell_type": "code",
   "execution_count": 7,
   "id": "3bb40f7e",
   "metadata": {},
   "outputs": [],
   "source": [
    "data = pd.DataFrame(\n",
    "    {\n",
    "        \"x\": x_list,\n",
    "        \"y_actual\":y_actual_list,\n",
    "        \"y_prediccion\": y_pred_list\n",
    "    }\n",
    ")"
   ]
  },
  {
   "cell_type": "code",
   "execution_count": 8,
   "id": "a6151fe2",
   "metadata": {},
   "outputs": [
    {
     "data": {
      "text/html": [
       "<div>\n",
       "<style scoped>\n",
       "    .dataframe tbody tr th:only-of-type {\n",
       "        vertical-align: middle;\n",
       "    }\n",
       "\n",
       "    .dataframe tbody tr th {\n",
       "        vertical-align: top;\n",
       "    }\n",
       "\n",
       "    .dataframe thead th {\n",
       "        text-align: right;\n",
       "    }\n",
       "</style>\n",
       "<table border=\"1\" class=\"dataframe\">\n",
       "  <thead>\n",
       "    <tr style=\"text-align: right;\">\n",
       "      <th></th>\n",
       "      <th>x</th>\n",
       "      <th>y_actual</th>\n",
       "      <th>y_prediccion</th>\n",
       "    </tr>\n",
       "  </thead>\n",
       "  <tbody>\n",
       "    <tr>\n",
       "      <th>0</th>\n",
       "      <td>-2.406470</td>\n",
       "      <td>0.188551</td>\n",
       "      <td>0.427707</td>\n",
       "    </tr>\n",
       "    <tr>\n",
       "      <th>1</th>\n",
       "      <td>2.670346</td>\n",
       "      <td>10.383266</td>\n",
       "      <td>10.073658</td>\n",
       "    </tr>\n",
       "    <tr>\n",
       "      <th>2</th>\n",
       "      <td>-3.256750</td>\n",
       "      <td>-0.695890</td>\n",
       "      <td>-1.187825</td>\n",
       "    </tr>\n",
       "    <tr>\n",
       "      <th>3</th>\n",
       "      <td>2.059346</td>\n",
       "      <td>8.324149</td>\n",
       "      <td>8.912758</td>\n",
       "    </tr>\n",
       "    <tr>\n",
       "      <th>4</th>\n",
       "      <td>3.681153</td>\n",
       "      <td>12.457934</td>\n",
       "      <td>11.994190</td>\n",
       "    </tr>\n",
       "  </tbody>\n",
       "</table>\n",
       "</div>"
      ],
      "text/plain": [
       "          x   y_actual  y_prediccion\n",
       "0 -2.406470   0.188551      0.427707\n",
       "1  2.670346  10.383266     10.073658\n",
       "2 -3.256750  -0.695890     -1.187825\n",
       "3  2.059346   8.324149      8.912758\n",
       "4  3.681153  12.457934     11.994190"
      ]
     },
     "execution_count": 8,
     "metadata": {},
     "output_type": "execute_result"
    }
   ],
   "source": [
    "data.head()"
   ]
  },
  {
   "cell_type": "code",
   "execution_count": 8,
   "id": "0ee0998b",
   "metadata": {},
   "outputs": [],
   "source": [
    "y_mean = [np.mean(y_actual) for i in range(1, len(x_list) + 1)]"
   ]
  },
  {
   "cell_type": "code",
   "execution_count": 9,
   "id": "30a1c94f",
   "metadata": {},
   "outputs": [
    {
     "data": {
      "text/plain": [
       "Text(0.5, 1.0, 'Valor actual vs prediccion')"
      ]
     },
     "execution_count": 9,
     "metadata": {},
     "output_type": "execute_result"
    },
    {
     "data": {
      "image/png": "[encoded data removed]",
      "text/plain": [
       "<Figure size 432x288 with 1 Axes>"
      ]
     },
     "metadata": {
      "needs_background": "light"
     },
     "output_type": "display_data"
    }
   ],
   "source": [
    "%matplotlib inline\n",
    "plt.plot(x, y_pred)\n",
    "plt.plot(x, y_actual, \"ro\")\n",
    "plt.plot(x, y_mean, \"g\")\n",
    "plt.title(\"Valor actual vs prediccion\")"
   ]
  },
  {
   "cell_type": "markdown",
   "id": "095a2b07",
   "metadata": {},
   "source": [
    "## Obteniendo la recta de regresion "
   ]
  },
  {
   "cell_type": "markdown",
   "id": "f9f0bc39",
   "metadata": {},
   "source": [
    "* y = a + b * x\n",
    "* b = sum((xi - x_m)*(y_i-y_m))/sum((xi-x_m)^2)\n",
    "* a = y_m - b*x_m"
   ]
  },
  {
   "cell_type": "code",
   "execution_count": 10,
   "id": "2a36ae4f",
   "metadata": {},
   "outputs": [
    {
     "data": {
      "text/plain": [
       "(1.359725275643291, 7.593084235991212)"
      ]
     },
     "execution_count": 10,
     "metadata": {},
     "output_type": "execute_result"
    }
   ],
   "source": [
    "x_mean = np.mean(data[\"x\"])\n",
    "y_mean = np.mean(data[\"y_actual\"])\n",
    "x_mean, y_mean"
   ]
  },
  {
   "cell_type": "code",
   "execution_count": null,
   "id": "ac229371",
   "metadata": {},
   "outputs": [],
   "source": []
  },
  {
   "cell_type": "code",
   "execution_count": null,
   "id": "8ad0eaf4",
   "metadata": {},
   "outputs": [],
   "source": []
  }
 ],
 "metadata": {
  "kernelspec": {
   "display_name": "Python 3 (ipykernel)",
   "language": "python",
   "name": "python3"
  },
  "language_info": {
   "codemirror_mode": {
    "name": "ipython",
    "version": 3
   },
   "file_extension": ".py",
   "mimetype": "text/x-python",
   "name": "python",
   "nbconvert_exporter": "python",
   "pygments_lexer": "ipython3",
   "version": "3.9.12"
  }
 },
 "nbformat": 4,
 "nbformat_minor": 5
}
